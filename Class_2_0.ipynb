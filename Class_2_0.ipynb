{
  "nbformat": 4,
  "nbformat_minor": 0,
  "metadata": {
    "colab": {
      "name": "Class 2.0.ipynb",
      "provenance": [],
      "collapsed_sections": [],
      "include_colab_link": true
    },
    "kernelspec": {
      "name": "python3",
      "display_name": "Python 3"
    }
  },
  "cells": [
    {
      "cell_type": "markdown",
      "metadata": {
        "id": "view-in-github",
        "colab_type": "text"
      },
      "source": [
        "<a href=\"https://colab.research.google.com/github/Savithamark/Python_Programs/blob/master/Class_2_0.ipynb\" target=\"_parent\"><img src=\"https://colab.research.google.com/assets/colab-badge.svg\" alt=\"Open In Colab\"/></a>"
      ]
    },
    {
      "cell_type": "markdown",
      "metadata": {
        "id": "hsLnKH-Zy7m1",
        "colab_type": "text"
      },
      "source": [
        "## Introduction of *If statement* is:\n",
        "* How you perform this sort of decision-making. \n",
        "* Execution of a statement or group of statements based on the value of an expression.\n",
        "\n",
        "### Logical conditions:\n",
        "Equals: ```a == b```\n",
        "\n",
        "Not Equals: ```a != b```\n",
        "\n",
        "Less than: ```a < b```\n",
        "\n",
        "Less than or equal to: ```a <= b```\n",
        "\n",
        "Greater than: ```a > b```\n",
        "\n",
        "Greater than or equal to: ```a >= b```\n",
        "\n",
        "\n",
        "### Cover below points:\n",
        " > If\n",
        "\n",
        " > If- else\n",
        "\n",
        " > Nested if-else\n",
        "\n",
        ">  Real Life\n"
      ]
    },
    {
      "cell_type": "code",
      "metadata": {
        "id": "X7xrtsRHy0sN",
        "colab_type": "code",
        "outputId": "7e0a3601-e5ef-4a6a-d14d-dce3b18c3df8",
        "colab": {
          "base_uri": "https://localhost:8080/",
          "height": 119
        }
      },
      "source": [
        "x = 33\n",
        "y = 200\n",
        "\n",
        "# if x > y:\n",
        "#   print(\"Y is bigger than x\")\n",
        "\n",
        "# short hand:\n",
        "# if y > x: print(\"ok!\")\n",
        "\n",
        "\n",
        "'''\n",
        "\t\tA one-year-old dog is roughly equivalent to a 14-year-old human being\n",
        "\t\tA dog that is two years old corresponds in development to a 22 year old person.\n",
        "\t\tEach additional dog year is equivalent to five human years.\n",
        "'''\n",
        "\n",
        "  # age = int(input(\"Age of the dog: \"))\n",
        "  # print()\n",
        "  # if age < 0 or age <= 0:\n",
        "  #     if age < 0:\n",
        "  #       print(\"This cannot be true!\")\n",
        "  #     else:\n",
        "  #       print(\"Again this cannot be true!\")\n",
        "  # elif age == 0:\n",
        "  #     print(\"This corresponds to 0 human years!\")\n",
        "  # elif age == 1:\n",
        "  #     print(\"Roughly 14 years!\")\n",
        "  # elif age == 2:\n",
        "  #     print(\"Approximately 22 years!\")\n",
        "  # else:\n",
        "  #     human = 22 + (age -2) * 5\n",
        "  #     print(\"Corresponds to  \" + str(human) + \" human years!\")\n",
        "\n",
        "# x = 200\n",
        "# y = 33\n",
        "# z = 33\n",
        "\n",
        "# if y > x:\n",
        "#   print(\"y is greater\")\n",
        "# else:\n",
        "#   print(\"x is greater\")\n",
        "\n",
        "# print(\"hello\") if x > y else print(\"check\")\n",
        "# :\n",
        "# if (x > y and y == z):\n",
        "#   print(\"y is greater\")\n",
        "# else:\n",
        "#   print(\"x is greater\")\n",
        "\n",
        "# Real life example:\n",
        "# person = input(\"Nationality? \")\n",
        "# if person == \"french\" or person == \"French\":\n",
        "#     print(\"Préférez-vous parler français?\")  #Do you prefer to speak French?\n",
        "# elif person == \"italian\" or person == \"Italian\":\n",
        "#     print(\"Preferisci parlare italiano?\")    #Do you prefer to speak Italian?\n",
        "# else:\n",
        "#     print(\"You are neither French nor Italian.\")\n",
        "#     print(\"So, let us speak English!\")\n",
        "\n",
        "# x = 200\n",
        "# y = 33\n",
        "\n",
        "# if x > y:\n",
        "#   pass\n",
        "\n",
        "\n",
        "# controll statement:\n",
        "for i in \"password\":\n",
        "  if i == \"s\":\n",
        "    # continue #break #pass   # \n",
        "  print('current letter: ',i)\n",
        "\n"
      ],
      "execution_count": 0,
      "outputs": [
        {
          "output_type": "stream",
          "text": [
            "current letter:  p\n",
            "current letter:  a\n",
            "current letter:  w\n",
            "current letter:  o\n",
            "current letter:  r\n",
            "current letter:  d\n"
          ],
          "name": "stdout"
        }
      ]
    }
  ]
}